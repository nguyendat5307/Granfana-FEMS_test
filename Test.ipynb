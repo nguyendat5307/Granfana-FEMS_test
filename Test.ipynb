{
 "cells": [
  {
   "cell_type": "code",
   "execution_count": 11,
   "metadata": {},
   "outputs": [],
   "source": [
    "from influxdb import InfluxDBClient\n",
    "import pandas\n",
    "client = InfluxDBClient('localhost', 8086, 'root', 'root', 'Savina')"
   ]
  },
  {
   "cell_type": "code",
   "execution_count": 12,
   "metadata": {},
   "outputs": [],
   "source": [
    "data = client.query('select * from GateWay02 where \"tag\" = \\'I2:Total_Energy\\'').get_points()"
   ]
  },
  {
   "cell_type": "code",
   "execution_count": 13,
   "metadata": {},
   "outputs": [],
   "source": [
    "df = pandas.DataFrame(data)"
   ]
  },
  {
   "cell_type": "code",
   "execution_count": 14,
   "metadata": {},
   "outputs": [
    {
     "output_type": "execute_result",
     "data": {
      "text/plain": "                             time day hour month              tag      value  \\\n0     2020-06-05T04:12:34.002027Z   5   11     6  I2:Total_Energy  639799.50   \n1     2020-06-05T04:12:39.065128Z   5   11     6  I2:Total_Energy  639799.50   \n2     2020-06-05T04:12:44.115754Z   5   11     6  I2:Total_Energy  639799.50   \n3     2020-06-05T04:12:49.027643Z   5   11     6  I2:Total_Energy  639799.50   \n4     2020-06-05T04:12:54.148456Z   5   11     6  I2:Total_Energy  639799.50   \n...                           ...  ..  ...   ...              ...        ...   \n2955  2020-06-05T10:12:54.725376Z   5   17     6  I2:Total_Energy  797999.01   \n2956  2020-06-05T10:12:59.732728Z   5   17     6  I2:Total_Energy  797999.01   \n2957  2020-06-05T10:13:04.747029Z   5   17     6  I2:Total_Energy  797999.01   \n2958  2020-06-05T10:13:09.754668Z   5   17     6  I2:Total_Energy  797999.01   \n2959  2020-06-05T10:13:14.789855Z   5   17     6  I2:Total_Energy  797999.01   \n\n      year  \n0     2020  \n1     2020  \n2     2020  \n3     2020  \n4     2020  \n...    ...  \n2955  2020  \n2956  2020  \n2957  2020  \n2958  2020  \n2959  2020  \n\n[2960 rows x 7 columns]",
      "text/html": "<div>\n<style scoped>\n    .dataframe tbody tr th:only-of-type {\n        vertical-align: middle;\n    }\n\n    .dataframe tbody tr th {\n        vertical-align: top;\n    }\n\n    .dataframe thead th {\n        text-align: right;\n    }\n</style>\n<table border=\"1\" class=\"dataframe\">\n  <thead>\n    <tr style=\"text-align: right;\">\n      <th></th>\n      <th>time</th>\n      <th>day</th>\n      <th>hour</th>\n      <th>month</th>\n      <th>tag</th>\n      <th>value</th>\n      <th>year</th>\n    </tr>\n  </thead>\n  <tbody>\n    <tr>\n      <th>0</th>\n      <td>2020-06-05T04:12:34.002027Z</td>\n      <td>5</td>\n      <td>11</td>\n      <td>6</td>\n      <td>I2:Total_Energy</td>\n      <td>639799.50</td>\n      <td>2020</td>\n    </tr>\n    <tr>\n      <th>1</th>\n      <td>2020-06-05T04:12:39.065128Z</td>\n      <td>5</td>\n      <td>11</td>\n      <td>6</td>\n      <td>I2:Total_Energy</td>\n      <td>639799.50</td>\n      <td>2020</td>\n    </tr>\n    <tr>\n      <th>2</th>\n      <td>2020-06-05T04:12:44.115754Z</td>\n      <td>5</td>\n      <td>11</td>\n      <td>6</td>\n      <td>I2:Total_Energy</td>\n      <td>639799.50</td>\n      <td>2020</td>\n    </tr>\n    <tr>\n      <th>3</th>\n      <td>2020-06-05T04:12:49.027643Z</td>\n      <td>5</td>\n      <td>11</td>\n      <td>6</td>\n      <td>I2:Total_Energy</td>\n      <td>639799.50</td>\n      <td>2020</td>\n    </tr>\n    <tr>\n      <th>4</th>\n      <td>2020-06-05T04:12:54.148456Z</td>\n      <td>5</td>\n      <td>11</td>\n      <td>6</td>\n      <td>I2:Total_Energy</td>\n      <td>639799.50</td>\n      <td>2020</td>\n    </tr>\n    <tr>\n      <th>...</th>\n      <td>...</td>\n      <td>...</td>\n      <td>...</td>\n      <td>...</td>\n      <td>...</td>\n      <td>...</td>\n      <td>...</td>\n    </tr>\n    <tr>\n      <th>2955</th>\n      <td>2020-06-05T10:12:54.725376Z</td>\n      <td>5</td>\n      <td>17</td>\n      <td>6</td>\n      <td>I2:Total_Energy</td>\n      <td>797999.01</td>\n      <td>2020</td>\n    </tr>\n    <tr>\n      <th>2956</th>\n      <td>2020-06-05T10:12:59.732728Z</td>\n      <td>5</td>\n      <td>17</td>\n      <td>6</td>\n      <td>I2:Total_Energy</td>\n      <td>797999.01</td>\n      <td>2020</td>\n    </tr>\n    <tr>\n      <th>2957</th>\n      <td>2020-06-05T10:13:04.747029Z</td>\n      <td>5</td>\n      <td>17</td>\n      <td>6</td>\n      <td>I2:Total_Energy</td>\n      <td>797999.01</td>\n      <td>2020</td>\n    </tr>\n    <tr>\n      <th>2958</th>\n      <td>2020-06-05T10:13:09.754668Z</td>\n      <td>5</td>\n      <td>17</td>\n      <td>6</td>\n      <td>I2:Total_Energy</td>\n      <td>797999.01</td>\n      <td>2020</td>\n    </tr>\n    <tr>\n      <th>2959</th>\n      <td>2020-06-05T10:13:14.789855Z</td>\n      <td>5</td>\n      <td>17</td>\n      <td>6</td>\n      <td>I2:Total_Energy</td>\n      <td>797999.01</td>\n      <td>2020</td>\n    </tr>\n  </tbody>\n</table>\n<p>2960 rows × 7 columns</p>\n</div>"
     },
     "metadata": {},
     "execution_count": 14
    }
   ],
   "source": [
    "df"
   ]
  },
  {
   "cell_type": "code",
   "execution_count": null,
   "metadata": {},
   "outputs": [],
   "source": []
  }
 ],
 "metadata": {
  "language_info": {
   "codemirror_mode": {
    "name": "ipython",
    "version": 3
   },
   "file_extension": ".py",
   "mimetype": "text/x-python",
   "name": "python",
   "nbconvert_exporter": "python",
   "pygments_lexer": "ipython3",
   "version": "3.8.2-final"
  },
  "orig_nbformat": 2,
  "kernelspec": {
   "name": "python38232bit8e6883461a9343559af6d04d2e0eacfa",
   "display_name": "Python 3.8.2 32-bit"
  }
 },
 "nbformat": 4,
 "nbformat_minor": 2
}